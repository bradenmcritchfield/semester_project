{
 "cells": [
  {
   "cell_type": "code",
   "execution_count": null,
   "metadata": {},
   "outputs": [],
   "source": [
    "import pandas as pd\n",
    "import numpy as np\n",
    "import requests\n",
    "import re\n",
    "import urllib.parse\n",
    "import matplotlib.pyplot as plt\n",
    "import seaborn as sns\n",
    "from bs4 import BeautifulSoup\n",
    "import time\n",
    "from sklearn.linear_model import LinearRegression\n",
    "import statsmodels.api as sm\n",
    "import pandas.plotting as pd_plotting\n",
    "import plotly.express as px"
   ]
  },
  {
   "cell_type": "code",
   "execution_count": null,
   "metadata": {},
   "outputs": [],
   "source": [
    "boardGames = pd.read_csv(\"boardgamesData.csv\")"
   ]
  },
  {
   "cell_type": "code",
   "execution_count": null,
   "metadata": {},
   "outputs": [],
   "source": [
    "boardGames[\"GroupSize\"] = pd.Categorical(boardGames[\"GroupSize\"], categories = [\"Individual\", \"Small\", \"Large\", \"Massive\"], ordered = True)\n",
    "boardGames[\"Time Category\"] = pd.Categorical(boardGames[\"Time Category\"], categories = [\"Quick\", \"Short\", \"Moderate\", \"Long\", \"Very Long\", \"Marathon\"], ordered = True)\n",
    "boardGames[\"AgeRating\"] = pd.Categorical(boardGames[\"AgeRating\"], categories = [\"Young\", \"PreTeen\", \"Teen\", \"Adult\", \"Any\"], ordered = True)\n",
    "\n"
   ]
  },
  {
   "cell_type": "code",
   "execution_count": null,
   "metadata": {},
   "outputs": [],
   "source": [
    "boardGames"
   ]
  },
  {
   "cell_type": "code",
   "execution_count": null,
   "metadata": {},
   "outputs": [],
   "source": [
    "sns.scatterplot(data=boardGames, x = \"Average USD Price\", y = \"Number of Ratings\")"
   ]
  },
  {
   "cell_type": "markdown",
   "metadata": {},
   "source": [
    "Create data frames without outliers for better visualization"
   ]
  },
  {
   "cell_type": "code",
   "execution_count": null,
   "metadata": {},
   "outputs": [],
   "source": [
    "\n",
    "boardgamesnew = boardGames.drop(index = [156, 51, 93, 200])\n",
    "boardgamesplayers = boardGames.drop(index = [131, 164, 473, 823])\n",
    "boardgamesyears = boardgamesnew.drop(index = [49, 441, 690, 816, 916, 949])"
   ]
  },
  {
   "cell_type": "code",
   "execution_count": null,
   "metadata": {},
   "outputs": [],
   "source": [
    "#sns.scatterplot(data=boardGames, x = \"Bayes Rating\", y = \"Average USD Price\")\n",
    "#plt.savefig(\"EDAPlots/PriceByRating.png\")\n",
    "\n",
    "sns.scatterplot(data=boardgamesyears, x = \"Year Published\", y = \"Number of Ratings\")\n",
    "plt.title(\"Number of Ratings by Year Published\")\n",
    "plt.savefig(\"EDAPlots/PopularitybyYear.png\")"
   ]
  },
  {
   "cell_type": "code",
   "execution_count": null,
   "metadata": {},
   "outputs": [],
   "source": [
    "sns.violinplot(data=boardgamesnew, y = \"Average USD Price\", x = \"Time Category\")\n",
    "plt.title(\"Distributions of Price by Length of Time\")\n",
    "plt.savefig(\"EDAPlots/PriceDistbyTime\")"
   ]
  },
  {
   "cell_type": "code",
   "execution_count": null,
   "metadata": {},
   "outputs": [],
   "source": [
    "boardgamesnew.loc[boardgamesnew[\"Average USD Price\"] > 1200]"
   ]
  },
  {
   "cell_type": "code",
   "execution_count": null,
   "metadata": {},
   "outputs": [],
   "source": [
    "boardGames[\"Age (Years)\"].idxmax()\n",
    "boardGames.loc[200]"
   ]
  },
  {
   "cell_type": "code",
   "execution_count": null,
   "metadata": {},
   "outputs": [],
   "source": [
    "sns.displot(data = boardGames, x = \"Number of Ratings\")"
   ]
  },
  {
   "cell_type": "code",
   "execution_count": null,
   "metadata": {},
   "outputs": [],
   "source": [
    "sns.set(font_scale =1.0) \n",
    "sns.heatmap(data = boardGames.corr(numeric_only=True), cmap=\"YlGnBu\", annot = True, annot_kws = {'size': 8}, square = True).set(title=\"Correlation Heatmap\")\n",
    "plt.xticks(rotation=90, fontsize = 8)\n",
    "plt.savefig(\"EDAPlots/correlationmatrix.png\")"
   ]
  },
  {
   "cell_type": "code",
   "execution_count": null,
   "metadata": {},
   "outputs": [],
   "source": [
    "sns.set(font_scale =1.0) \n",
    "sns.heatmap(data = boardgamesnew.corr(numeric_only=True), cmap=\"YlGnBu\", annot = True, annot_kws = {'size': 8}, square = True).set(title=\"Correlation Heatmap\")\n",
    "plt.xticks(rotation=90, fontsize = 8)\n",
    "plt.savefig(\"EDAPlots/correlationmatrixnew.png\")"
   ]
  },
  {
   "cell_type": "code",
   "execution_count": null,
   "metadata": {},
   "outputs": [],
   "source": [
    "fig, axes = plt.subplots(nrows=2, ncols=2, figsize=(9, 6))\n",
    "sns.violinplot(data=boardGames, y = \"Number of Ratings\", palette = \"Greens\", ax=axes[0, 0])\n",
    "axes[0,0].set_title(\"Distributions of Number of Ratings of Top 1000 Board Games\")\n",
    "sns.violinplot(data=boardGames, y = \"Number of Ratings\", x = \"Time Category\", palette = \"Blues\", ax=axes[1, 0])\n",
    "axes[1,0].set_title(\"Distributions of Number of Ratings by Length of Time\")\n",
    "sns.violinplot(data=boardGames, y = \"Number of Ratings\", x = \"GroupSize\", palette=\"Reds\", ax =axes[0,1])\n",
    "axes[0,1].set_title(\"Distributions of Number of Ratings by Size of Group\")\n",
    "sns.violinplot(data=boardGames, y = \"Number of Ratings\", x = \"AgeRating\", palette=\"Oranges\", ax =axes[1,1])\n",
    "axes[1,1].set_title(\"Distributions of Number of Ratings by Minimum Age\")\n",
    "plt.tight_layout()  # Adjust layout to prevent overlap\n",
    "plt.show()\n",
    "fig.savefig(\"EDAPlots/ViolinPlots.png\")"
   ]
  },
  {
   "cell_type": "code",
   "execution_count": null,
   "metadata": {},
   "outputs": [],
   "source": [
    "sns.violinplot(data=boardGames, y = \"Bayes Rating\", x = \"GroupSize\", palette=\"Reds\")\n",
    "plt.title(\"Distributions of Rating by Size of Group\")\n",
    "plt.savefig(\"EDAPlots/RatingDistbySize\")"
   ]
  },
  {
   "cell_type": "code",
   "execution_count": null,
   "metadata": {},
   "outputs": [],
   "source": [
    "fig, axes = plt.subplots(nrows=1, ncols=3, figsize=(12, 6))\n",
    "sns.histplot(data = boardGames, x = \"GroupSize\", ax = axes[0])\n",
    "axes[0].set_title(\"Counts of Each Player Group Size Category\", fontsize = 11)\n",
    "#plt.savefig(\"EDAPlots/SizeCatCounts.png\")\n",
    "sns.histplot(data = boardGames, x = \"Time Category\", ax = axes[1])\n",
    "axes[1].set_xticklabels(labels=[\"Quick\", \"Short\", \"Moderate\", \"Long\", \"Very Long\", \"Marathon\"], rotation = 45)\n",
    "axes[1].set_title(\"Counts of Each Time Length Category\", fontsize = 11)\n",
    "#plt.savefig(\"EDAPlots/TimeCatCounts.png\")\n",
    "sns.histplot(data = boardGames, x = \"AgeRating\", ax = axes[2])\n",
    "axes[2].set_title(\"Counts of Each Minimum Age Category\", fontsize = 11)\n",
    "#plt.savefig(\"EDAPlots/AgeCatCounts.png\")\n",
    "\n",
    "#plt.savefig(\"EDAPlots/AgeCatCounts.png\")\n",
    "plt.tight_layout()  # Adjust layout to prevent overlap\n",
    "plt.show()\n",
    "fig.savefig(\"EDAPlots/CatHists.png\")"
   ]
  },
  {
   "cell_type": "code",
   "execution_count": null,
   "metadata": {},
   "outputs": [],
   "source": [
    "size_order = [\"Individual\", \"Small\", \"Large\", \"Massive\"]\n",
    "sns.violinplot(data=boardgamesnew, y = \"Standard Deviation\", x = \"GroupSize\", palette=\"Reds\", order = size_order)\n",
    "plt.title(\"Distributions of Standard Deviation by Size of Group\")\n",
    "plt.savefig(\"EDAPlots/RatingVariancebySize\")"
   ]
  },
  {
   "cell_type": "code",
   "execution_count": null,
   "metadata": {},
   "outputs": [],
   "source": [
    "boardgamesnew_filled = boardgamesnew\n",
    "boardgamesnew_filled[\"Average USD Price\"] = boardgamesnew[\"Average USD Price\"].replace(np.nan, boardgamesnew[\"Average USD Price\"].mean())"
   ]
  },
  {
   "cell_type": "code",
   "execution_count": null,
   "metadata": {},
   "outputs": [],
   "source": []
  },
  {
   "cell_type": "code",
   "execution_count": null,
   "metadata": {},
   "outputs": [],
   "source": [
    "fig, axes = plt.subplots(nrows=1, ncols=3, figsize=(12, 6))\n",
    "\n",
    "sns.histplot(data = boardgamesyears, x = \"Year Published\", ax = axes[0])\n",
    "axes[0].set_title(\"Histogram of Year Published\", fontsize = 11)\n",
    "#plt.savefig(\"EDAPlots/SizeCatCounts.png\")\n",
    "sns.histplot(data = boardGames, x = \"Min Players\", ax = axes[1])\n",
    "axes[1].set_title(\"Histogram of Min Players\", fontsize = 11)\n",
    "#plt.savefig(\"EDAPlots/TimeCatCounts.png\")\n",
    "sns.histplot(data = boardgamesplayers, x = \"Max Players\", ax = axes[2])\n",
    "axes[2].set_title(\"Histogram of Max Players\", fontsize = 11)\n",
    "\n",
    "plt.tight_layout()  # Adjust layout to prevent overlap\n",
    "plt.show()\n",
    "fig.savefig(\"EDAPlots/ContHistplots1.png\")"
   ]
  },
  {
   "cell_type": "code",
   "execution_count": null,
   "metadata": {},
   "outputs": [],
   "source": [
    "boardGames[\"Age (Years)\"].median()"
   ]
  },
  {
   "cell_type": "code",
   "execution_count": null,
   "metadata": {},
   "outputs": [],
   "source": [
    "fig, axes = plt.subplots(nrows=1, ncols=3, figsize=(12, 6))\n",
    "\n",
    "sns.histplot(data = boardGames, x = \"Playing Time\", ax = axes[0])\n",
    "axes[0].set_title(\"Histogram of Playing Time\", fontsize = 11)\n",
    "#plt.savefig(\"EDAPlots/SizeCatCounts.png\")\n",
    "sns.histplot(data = boardGames, x = \"Age Minimum\", ax = axes[1])\n",
    "axes[1].set_title(\"Histogram of Min Age\", fontsize = 11)\n",
    "#plt.savefig(\"EDAPlots/TimeCatCounts.png\")\n",
    "sns.histplot(data = boardGames, x = \"Number of Accessories\", ax = axes[2])\n",
    "axes[2].set_title(\"Histogram of Number of Accessories\", fontsize = 11)\n",
    "\n",
    "plt.tight_layout()  # Adjust layout to prevent overlap\n",
    "plt.show()\n",
    "fig.savefig(\"EDAPlots/ContHistplots2.png\")"
   ]
  },
  {
   "cell_type": "code",
   "execution_count": null,
   "metadata": {},
   "outputs": [],
   "source": [
    "boardGames[\"Playing Time\"].median()\n",
    "boardGames[\"Age Minimum\"].median()"
   ]
  },
  {
   "cell_type": "code",
   "execution_count": null,
   "metadata": {},
   "outputs": [],
   "source": [
    "fig, axes = plt.subplots(nrows=2, ncols=2, figsize=(12, 6))\n",
    "\n",
    "sns.histplot(data = boardGames, x = \"Number of Ratings\", ax = axes[0,0])\n",
    "axes[0,0].set_title(\"Histogram of Number of Ratings\", fontsize = 11)\n",
    "#plt.savefig(\"EDAPlots/SizeCatCounts.png\")\n",
    "sns.histplot(data = boardGames, x = \"Average Rating\", ax = axes[0, 1])\n",
    "axes[0,1].set_title(\"Histogram of Average Rating\", fontsize = 11)\n",
    "#plt.savefig(\"EDAPlots/TimeCatCounts.png\")\n",
    "sns.histplot(data = boardGames, x = \"Bayes Rating\", ax = axes[1, 0])\n",
    "axes[1,0].set_title(\"Histogram of Bayes Rating\", fontsize = 11)\n",
    "sns.histplot(data = boardgamesnew, x = \"Average USD Price\", ax = axes[1, 1])\n",
    "axes[1,1].set_title(\"Histogram of Average price (USD)\", fontsize = 11)\n",
    "plt.tight_layout()  # Adjust layout to prevent overlap\n",
    "plt.show()\n",
    "fig.savefig(\"EDAPlots/ContHistplots3.png\")"
   ]
  },
  {
   "cell_type": "code",
   "execution_count": null,
   "metadata": {},
   "outputs": [],
   "source": [
    "X1 = boardgamesnew_filled.iloc[:, np.r_[2, 4:8, 11]]\n",
    "Y = boardgamesnew.iloc[:, 9]\n",
    "X = sm.add_constant(X1)\n",
    "model = sm.OLS(Y, X).fit()\n",
    "print(model.summary())"
   ]
  },
  {
   "cell_type": "code",
   "execution_count": null,
   "metadata": {},
   "outputs": [],
   "source": [
    "boardGames.loc[boardGames[\"Year Published\"] < 1950].index"
   ]
  },
  {
   "cell_type": "code",
   "execution_count": null,
   "metadata": {},
   "outputs": [],
   "source": [
    "boardGames.loc[boardGames[\"Max Players\"] > 80].index"
   ]
  },
  {
   "cell_type": "code",
   "execution_count": null,
   "metadata": {},
   "outputs": [],
   "source": [
    "test = boardGames.groupby(\"Year Published\")\n"
   ]
  }
 ],
 "metadata": {
  "kernelspec": {
   "display_name": "stat386",
   "language": "python",
   "name": "python3"
  },
  "language_info": {
   "codemirror_mode": {
    "name": "ipython",
    "version": 3
   },
   "file_extension": ".py",
   "mimetype": "text/x-python",
   "name": "python",
   "nbconvert_exporter": "python",
   "pygments_lexer": "ipython3",
   "version": "3.10.12"
  }
 },
 "nbformat": 4,
 "nbformat_minor": 2
}
